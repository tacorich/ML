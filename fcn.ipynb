{
  "nbformat": 4,
  "nbformat_minor": 0,
  "metadata": {
    "accelerator": "GPU",
    "kernelspec": {
      "display_name": "Python 3",
      "name": "python3"
    },
    "language_info": {
      "name": "python"
    },
    "colab": {
      "name": "fcn.ipynb",
      "provenance": [],
      "toc_visible": true
    }
  },
  "cells": [
    {
      "cell_type": "markdown",
      "metadata": {
        "id": "23zVrL_yUhln"
      },
      "source": [
        "The following additional libraries are needed to run this\n",
        "notebook. Note that running on Colab is experimental, please report a Github\n",
        "issue if you have any problem."
      ]
    },
    {
      "cell_type": "code",
      "metadata": {
        "id": "DERkOyW2Uhlp"
      },
      "source": [
        "!pip install d2l==0.15.1\n",
        "!pip install -U mxnet-cu101==1.7.0\n"
      ],
      "execution_count": null,
      "outputs": []
    },
    {
      "cell_type": "markdown",
      "metadata": {
        "origin_pos": 0,
        "id": "B-1d_FCCUhlp"
      },
      "source": [
        "# Fully Convolutional Networks (FCN)\n",
        ":label:`sec_fcn`\n",
        "\n",
        "We previously discussed semantic segmentation using each pixel in an image for\n",
        "category prediction. A fully convolutional network (FCN)\n",
        ":cite:`Long.Shelhamer.Darrell.2015` uses a convolutional neural network to\n",
        "transform image pixels to pixel categories. Unlike the convolutional neural\n",
        "networks previously introduced, an FCN transforms the height and width of the\n",
        "intermediate layer feature map back to the size of input image through the\n",
        "transposed convolution layer, so that the predictions have a one-to-one\n",
        "correspondence with input image in spatial dimension (height and width). Given a\n",
        "position on the spatial dimension, the output of the channel dimension will be a\n",
        "category prediction of the pixel corresponding to the location.\n",
        "\n",
        "We will first import the package or module needed for the experiment and then\n",
        "explain the transposed convolution layer.\n"
      ]
    },
    {
      "cell_type": "code",
      "metadata": {
        "attributes": {
          "classes": [],
          "id": "",
          "n": "2"
        },
        "origin_pos": 1,
        "tab": [
          "mxnet"
        ],
        "id": "1HVhfTJdUhlp"
      },
      "source": [
        "%matplotlib inline\n",
        "from d2l import mxnet as d2l\n",
        "from mxnet import gluon, image, init, np, npx\n",
        "from mxnet.gluon import nn\n",
        "\n",
        "npx.set_np()"
      ],
      "execution_count": null,
      "outputs": []
    },
    {
      "cell_type": "markdown",
      "metadata": {
        "origin_pos": 2,
        "id": "1--bIaxIUhlq"
      },
      "source": [
        "## Constructing a Model\n",
        "\n",
        "Here, we demonstrate the most basic design of a fully convolutional network model. As shown in :numref:`fig_fcn`, the fully convolutional network first uses the convolutional neural network to extract image features, then transforms the number of channels into the number of categories through the $1\\times 1$ convolution layer, and finally transforms the height and width of the feature map to the size of the input image by using the transposed convolution layer :numref:`sec_transposed_conv`. The model output has the same height and width as the input image and has a one-to-one correspondence in spatial positions. The final output channel contains the category prediction of the pixel of the corresponding spatial position.\n",
        "\n",
        "![Fully convolutional network. ](http://d2l.ai/_images/fcn.svg)\n",
        ":label:`fig_fcn`\n",
        "\n",
        "Below, we use a ResNet-18 model pre-trained on the ImageNet dataset to extract image features and record the network instance as `pretrained_net`. As you can see, the last two layers of the model member variable `features` are the global average pooling layer `GlobalAvgPool2D` and example flattening layer `Flatten`. The `output` module contains the fully connected layer used for output. These layers are not required for a fully convolutional network.\n"
      ]
    },
    {
      "cell_type": "code",
      "metadata": {
        "attributes": {
          "classes": [],
          "id": "",
          "n": "5"
        },
        "origin_pos": 3,
        "tab": [
          "mxnet"
        ],
        "id": "ZVx3FV6rUhlq"
      },
      "source": [
        "pretrained_net = gluon.model_zoo.vision.resnet18_v2(pretrained=True)\n",
        "pretrained_net.features[-4:], pretrained_net.output"
      ],
      "execution_count": null,
      "outputs": []
    },
    {
      "cell_type": "markdown",
      "metadata": {
        "origin_pos": 4,
        "id": "aHCxU7o_UhmC"
      },
      "source": [
        "Next, we create the fully convolutional network instance `net`. It duplicates all the neural layers except the last two layers of the instance member variable `features` of `pretrained_net` and the model parameters obtained after pre-training.\n"
      ]
    },
    {
      "cell_type": "code",
      "metadata": {
        "attributes": {
          "classes": [],
          "id": "",
          "n": "6"
        },
        "origin_pos": 5,
        "tab": [
          "mxnet"
        ],
        "id": "3qWLOJawUhmC"
      },
      "source": [
        "net = nn.HybridSequential()\n",
        "for layer in pretrained_net.features[:-2]:\n",
        "    net.add(layer)"
      ],
      "execution_count": null,
      "outputs": []
    },
    {
      "cell_type": "markdown",
      "metadata": {
        "origin_pos": 6,
        "id": "7mQYU1NHUhmC"
      },
      "source": [
        "Given an input of a height and width of 320 and 480 respectively, the forward computation of `net` will reduce the height and width of the input to $1/32$ of the original, i.e., 10 and 15.\n"
      ]
    },
    {
      "cell_type": "code",
      "metadata": {
        "attributes": {
          "classes": [],
          "id": "",
          "n": "7"
        },
        "origin_pos": 7,
        "tab": [
          "mxnet"
        ],
        "id": "mpJj2BGNUhmC"
      },
      "source": [
        "X = np.random.uniform(size=(1, 3, 320, 480))\n",
        "net(X).shape"
      ],
      "execution_count": null,
      "outputs": []
    },
    {
      "cell_type": "markdown",
      "metadata": {
        "origin_pos": 8,
        "id": "WpMbwKFPUhmC"
      },
      "source": [
        "Next, we transform the number of output channels to the number of categories of\n",
        "Pascal VOC2012 (21) through the $1\\times 1$ convolution layer. Finally, we need\n",
        "to magnify the height and width of the feature map by a factor of 32 to change\n",
        "them back to the height and width of the input image. Recall the calculation\n",
        "method for the convolution layer output shape described in\n",
        ":numref:`sec_padding`. Because\n",
        "$(320-64+16\\times2+32)/32=10$ and $(480-64+16\\times2+32)/32=15$, we construct a\n",
        "transposed convolution layer with a stride of 32 and set the height and width of\n",
        "the convolution kernel to 64 and the padding to 16. It is not difficult to see\n",
        "that, if the stride is $s$, the padding is $s/2$ (assuming $s/2$ is an integer),\n",
        "and the height and width of the convolution kernel are $2s$, the transposed\n",
        "convolution kernel will magnify both the height and width of the input by a\n",
        "factor of $s$.\n"
      ]
    },
    {
      "cell_type": "code",
      "metadata": {
        "attributes": {
          "classes": [],
          "id": "",
          "n": "8"
        },
        "origin_pos": 9,
        "tab": [
          "mxnet"
        ],
        "id": "w0zYoQ9XUhmC"
      },
      "source": [
        "num_classes = 21\n",
        "net.add(nn.Conv2D(num_classes, kernel_size=1),\n",
        "        nn.Conv2DTranspose(\n",
        "            num_classes, kernel_size=64, padding=16, strides=32))"
      ],
      "execution_count": null,
      "outputs": []
    },
    {
      "cell_type": "markdown",
      "metadata": {
        "origin_pos": 10,
        "id": "HW6vXxNuUhmC"
      },
      "source": [
        "## Initializing the Transposed Convolution Layer\n",
        "\n",
        "We already know that the transposed convolution layer can magnify a feature map. In image processing, sometimes we need to magnify the image, i.e., upsampling. There are many methods for upsampling, and one common method is bilinear interpolation. Simply speaking, in order to get the pixel of the output image at the coordinates $(x, y)$, the coordinates are first mapped to the coordinates of the input image $(x', y')$. This can be done based on the ratio of the size of three input to the size of the output. The mapped values $x'$ and $y'$ are usually real numbers. Then, we find the four pixels closest to the coordinate $(x', y')$ on the input image. Finally, the pixels of the output image at coordinates $(x, y)$ are calculated based on these four pixels on the input image and their relative distances to $(x', y')$. Upsampling by bilinear interpolation can be implemented by transposed convolution layer of the convolution kernel constructed using the following `bilinear_kernel` function. Due to space limitations, we only give the implementation of the `bilinear_kernel` function and will not discuss the principles of the algorithm.\n"
      ]
    },
    {
      "cell_type": "code",
      "metadata": {
        "attributes": {
          "classes": [],
          "id": "",
          "n": "9"
        },
        "origin_pos": 11,
        "tab": [
          "mxnet"
        ],
        "id": "Hvs5E8xhUhmC"
      },
      "source": [
        "def bilinear_kernel(in_channels, out_channels, kernel_size):\n",
        "    factor = (kernel_size + 1) // 2\n",
        "    if kernel_size % 2 == 1:\n",
        "        center = factor - 1\n",
        "    else:\n",
        "        center = factor - 0.5\n",
        "    og = (np.arange(kernel_size).reshape(-1, 1),\n",
        "          np.arange(kernel_size).reshape(1, -1))\n",
        "    filt = (1 - np.abs(og[0] - center) / factor) * \\\n",
        "           (1 - np.abs(og[1] - center) / factor)\n",
        "    weight = np.zeros((in_channels, out_channels, kernel_size, kernel_size))\n",
        "    weight[range(in_channels), range(out_channels), :, :] = filt\n",
        "    return np.array(weight)"
      ],
      "execution_count": null,
      "outputs": []
    },
    {
      "cell_type": "markdown",
      "metadata": {
        "origin_pos": 12,
        "id": "aQNssoimUhmC"
      },
      "source": [
        "Now, we will experiment with bilinear interpolation upsampling implemented by transposed convolution layers. Construct a transposed convolution layer that magnifies height and width of input by a factor of 2 and initialize its convolution kernel with the `bilinear_kernel` function.\n"
      ]
    },
    {
      "cell_type": "code",
      "metadata": {
        "attributes": {
          "classes": [],
          "id": "",
          "n": "11"
        },
        "origin_pos": 13,
        "tab": [
          "mxnet"
        ],
        "id": "n8JmmIMvUhmD"
      },
      "source": [
        "conv_trans = nn.Conv2DTranspose(3, kernel_size=4, padding=1, strides=2)\n",
        "conv_trans.initialize(init.Constant(bilinear_kernel(3, 3, 4)))"
      ],
      "execution_count": null,
      "outputs": []
    },
    {
      "cell_type": "markdown",
      "metadata": {
        "origin_pos": 14,
        "id": "wzdZKHLlUhmD"
      },
      "source": [
        "Read the image `X` and record the result of upsampling as `Y`. In order to print the image, we need to adjust the position of the channel dimension.\n"
      ]
    },
    {
      "cell_type": "code",
      "metadata": {
        "origin_pos": 15,
        "tab": [
          "mxnet"
        ],
        "id": "rMMoFt-BUhmD"
      },
      "source": [
        "img = image.imread('/content/catdog.jpg')\n",
        "X = np.expand_dims(img.astype('float32').transpose(2, 0, 1), axis=0) / 255\n",
        "Y = conv_trans(X)\n",
        "out_img = Y[0].transpose(1, 2, 0)"
      ],
      "execution_count": null,
      "outputs": []
    },
    {
      "cell_type": "markdown",
      "metadata": {
        "origin_pos": 16,
        "id": "n4PWza2QUhmD"
      },
      "source": [
        "As you can see, the transposed convolution layer magnifies both the height and width of the image by a factor of 2. It is worth mentioning that, besides to the difference in coordinate scale, the image magnified by bilinear interpolation and original image printed in :numref:`sec_bbox` look the same.\n"
      ]
    },
    {
      "cell_type": "code",
      "metadata": {
        "origin_pos": 17,
        "tab": [
          "mxnet"
        ],
        "id": "uf2z8YMPUhmD"
      },
      "source": [
        "d2l.set_figsize()\n",
        "print('input image shape:', img.shape)\n",
        "d2l.plt.imshow(img.asnumpy());\n",
        "print('output image shape:', out_img.shape)\n",
        "d2l.plt.imshow(out_img.asnumpy());"
      ],
      "execution_count": null,
      "outputs": []
    },
    {
      "cell_type": "markdown",
      "metadata": {
        "origin_pos": 18,
        "id": "8NOrM4uLUhmD"
      },
      "source": [
        "In a fully convolutional network, we initialize the transposed convolution layer for upsampled bilinear interpolation. For a $1\\times 1$ convolution layer, we use Xavier for randomly initialization.\n"
      ]
    },
    {
      "cell_type": "code",
      "metadata": {
        "attributes": {
          "classes": [],
          "id": "",
          "n": "12"
        },
        "origin_pos": 19,
        "tab": [
          "mxnet"
        ],
        "id": "loj851tsUhmD"
      },
      "source": [
        "W = bilinear_kernel(num_classes, num_classes, 64)\n",
        "net[-1].initialize(init.Constant(W))\n",
        "net[-2].initialize(init=init.Xavier())"
      ],
      "execution_count": null,
      "outputs": []
    },
    {
      "cell_type": "markdown",
      "metadata": {
        "origin_pos": 20,
        "id": "dWDnopW1UhmD"
      },
      "source": [
        "## Reading the Dataset\n",
        "\n",
        "We read the dataset using the method described in the previous section. Here, we specify shape of the randomly cropped output image as $320\\times 480$, so both the height and width are divisible by 32.\n"
      ]
    },
    {
      "cell_type": "code",
      "metadata": {
        "attributes": {
          "classes": [],
          "id": "",
          "n": "13"
        },
        "origin_pos": 21,
        "tab": [
          "mxnet"
        ],
        "id": "T4HbWsbgUhmD"
      },
      "source": [
        "batch_size, crop_size = 32, (320, 480)\n",
        "train_iter, test_iter = d2l.load_data_voc(batch_size, crop_size)"
      ],
      "execution_count": null,
      "outputs": []
    },
    {
      "cell_type": "markdown",
      "metadata": {
        "origin_pos": 22,
        "id": "wDEAF1T1UhmD"
      },
      "source": [
        "## Training\n",
        "\n",
        "Now we can start training the model. The loss function and accuracy calculation here are not substantially different from those used in image classification. Because we use the channel of the transposed convolution layer to predict pixel categories, the `axis=1` (channel dimension) option is specified in `SoftmaxCrossEntropyLoss`. In addition, the model calculates the accuracy based on whether the prediction category of each pixel is correct.\n"
      ]
    },
    {
      "cell_type": "code",
      "metadata": {
        "attributes": {
          "classes": [],
          "id": "",
          "n": "12"
        },
        "origin_pos": 23,
        "tab": [
          "mxnet"
        ],
        "id": "lQLL4CCVUhmD"
      },
      "source": [
        "num_epochs, lr, wd, devices = 5, 0.1, 1e-3, d2l.try_all_gpus()\n",
        "loss = gluon.loss.SoftmaxCrossEntropyLoss(axis=1)\n",
        "net.collect_params().reset_ctx(devices)\n",
        "trainer = gluon.Trainer(net.collect_params(), 'sgd',\n",
        "                        {'learning_rate': lr, 'wd': wd})\n",
        "d2l.train_ch13(net, train_iter, test_iter, loss, trainer, num_epochs, devices)"
      ],
      "execution_count": null,
      "outputs": []
    },
    {
      "cell_type": "markdown",
      "metadata": {
        "origin_pos": 24,
        "id": "x8oXxVqpUhmE"
      },
      "source": [
        "## Prediction\n",
        "\n",
        "During predicting, we need to standardize the input image in each channel and transform them into the four-dimensional input format required by the convolutional neural network.\n"
      ]
    },
    {
      "cell_type": "code",
      "metadata": {
        "attributes": {
          "classes": [],
          "id": "",
          "n": "13"
        },
        "origin_pos": 25,
        "tab": [
          "mxnet"
        ],
        "id": "HK4wfXV0UhmE"
      },
      "source": [
        "def predict(img):\n",
        "    X = test_iter._dataset.normalize_image(img)\n",
        "    X = np.expand_dims(X.transpose(2, 0, 1), axis=0)\n",
        "    pred = net(X.as_in_ctx(devices[0])).argmax(axis=1)\n",
        "    return pred.reshape(pred.shape[1], pred.shape[2])"
      ],
      "execution_count": null,
      "outputs": []
    },
    {
      "cell_type": "markdown",
      "metadata": {
        "origin_pos": 26,
        "id": "kLyFNUc0UhmE"
      },
      "source": [
        "To visualize the predicted categories for each pixel, we map the predicted categories back to their labeled colors in the dataset.\n"
      ]
    },
    {
      "cell_type": "code",
      "metadata": {
        "attributes": {
          "classes": [],
          "id": "",
          "n": "14"
        },
        "origin_pos": 27,
        "tab": [
          "mxnet"
        ],
        "id": "3AhqMFMpUhmE"
      },
      "source": [
        "def label2image(pred):\n",
        "    colormap = np.array(d2l.VOC_COLORMAP, ctx=devices[0], dtype='uint8')\n",
        "    X = pred.astype('int32')\n",
        "    return colormap[X, :]"
      ],
      "execution_count": null,
      "outputs": []
    },
    {
      "cell_type": "markdown",
      "metadata": {
        "origin_pos": 28,
        "id": "pgRoSu1AUhmE"
      },
      "source": [
        "The size and shape of the images in the test dataset vary. Because the model uses a transposed convolution layer with a stride of 32, when the height or width of the input image is not divisible by 32, the height or width of the transposed convolution layer output deviates from the size of the input image. In order to solve this problem, we can crop multiple rectangular areas in the image with heights and widths as integer multiples of 32, and then perform forward computation on the pixels in these areas. When combined, these areas must completely cover the input image. When a pixel is covered by multiple areas, the average of the transposed convolution layer output in the forward computation of the different areas can be used as an input for the softmax operation to predict the category.\n",
        "\n",
        "For the sake of simplicity, we only read a few large test images and crop an area with a shape of $320\\times480$ from the top-left corner of the image. Only this area is used for prediction. For the input image, we print the cropped area first, then print the predicted result, and finally print the labeled category.\n"
      ]
    },
    {
      "cell_type": "code",
      "metadata": {
        "attributes": {
          "classes": [],
          "id": "",
          "n": "15"
        },
        "origin_pos": 29,
        "tab": [
          "mxnet"
        ],
        "id": "Qv_kEq69UhmE"
      },
      "source": [
        "voc_dir = d2l.download_extract('voc2012', 'VOCdevkit/VOC2012')\n",
        "test_images, test_labels = d2l.read_voc_images(voc_dir, False)\n",
        "n, imgs = 4, []\n",
        "for i in range(n):\n",
        "    crop_rect = (0, 0, 480, 320)\n",
        "    X = image.fixed_crop(test_images[i], *crop_rect)\n",
        "    pred = label2image(predict(X))\n",
        "    imgs += [X, pred, image.fixed_crop(test_labels[i], *crop_rect)]\n",
        "d2l.show_images(imgs[::3] + imgs[1::3] + imgs[2::3], 3, n, scale=2);"
      ],
      "execution_count": null,
      "outputs": []
    },
    {
      "cell_type": "markdown",
      "metadata": {
        "origin_pos": 30,
        "id": "qCjZvsFbUhmE"
      },
      "source": [
        "## Summary\n",
        "\n",
        "* The fully convolutional network first uses the convolutional neural network to extract image features, then transforms the number of channels into the number of categories through the $1\\times 1$ convolution layer, and finally transforms the height and width of the feature map to the size of the input image by using the transposed convolution layer to output the category of each pixel.\n",
        "* In a fully convolutional network, we initialize the transposed convolution layer for upsampled bilinear interpolation.\n",
        "\n",
        "\n",
        "## Exercises\n",
        "\n",
        "1. If we use Xavier to randomly initialize the transposed convolution layer, what will happen to the result?\n",
        "1. Can you further improve the accuracy of the model by tuning the hyperparameters?\n",
        "1. Predict the categories of all pixels in the test image.\n",
        "1. The outputs of some intermediate layers of the convolutional neural network are also used in the paper on fully convolutional networks[1]. Try to implement this idea.\n"
      ]
    },
    {
      "cell_type": "markdown",
      "metadata": {
        "origin_pos": 31,
        "tab": [
          "mxnet"
        ],
        "id": "KJAvLE10UhmE"
      },
      "source": [
        "[Discussions](https://discuss.d2l.ai/t/377)\n"
      ]
    }
  ]
}